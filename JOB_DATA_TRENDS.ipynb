{
 "cells": [
  {
   "cell_type": "code",
   "execution_count": 62,
   "id": "1cfd93e7",
   "metadata": {},
   "outputs": [],
   "source": [
    "import undetected_chromedriver as uc \n",
    "from selenium import webdriver\n",
    "from selenium.webdriver.common.keys import Keys\n",
    "from selenium.webdriver.common.by import By\n",
    "from selenium.webdriver.common.action_chains import ActionChains\n",
    "from selenium.webdriver.support.ui import WebDriverWait\n",
    "from selenium.webdriver.support import expected_conditions as EC\n",
    "import time\n"
   ]
  },
  {
   "cell_type": "code",
   "execution_count": 67,
   "id": "c57c9084",
   "metadata": {},
   "outputs": [
    {
     "name": "stdout",
     "output_type": "stream",
     "text": [
      "Show more button not found, trying to close any pop-ups.\n",
      "Show more button not found, trying to close any pop-ups.\n",
      "Show more button not found, trying to close any pop-ups.\n",
      "No close button found. Exiting loop.\n"
     ]
    }
   ],
   "source": [
    "\n",
    "driver = uc.Chrome()  \n",
    "query = 'data-science'\n",
    "url = f'https://www.glassdoor.com/Job/india-{query}-jobs-SRCH_IL.0,5_IN115_KO6,18.htm'\n",
    "driver.get(url)  \n",
    "\n",
    "try:\n",
    "    while True:\n",
    "        try:\n",
    "            \n",
    "            show_more_button = WebDriverWait(driver, 10).until(\n",
    "                EC.presence_of_element_located((By.XPATH, \"//button[contains(@class, 'button_Button__MlD2g') and contains(@class, 'button-base_Button__knLaX') and contains(., 'Show more jobs')]\"))\n",
    "            )\n",
    "\n",
    "            \n",
    "            actions = ActionChains(driver)\n",
    "            actions.move_to_element(show_more_button).perform()\n",
    "\n",
    "            \n",
    "            show_more_button.click()\n",
    "            time.sleep(2)  \n",
    "\n",
    "        except Exception as e:\n",
    "            print(\"Show more button not found, trying to close any pop-ups.\")\n",
    "\n",
    "            \n",
    "            try:\n",
    "                close_button = WebDriverWait(driver, 5).until(\n",
    "                    EC.presence_of_element_located((By.CLASS_NAME, \"CloseButton\"))\n",
    "                )\n",
    "\n",
    "                \n",
    "                actions.move_to_element(close_button).perform()\n",
    "\n",
    "                \n",
    "                close_button.click()\n",
    "                time.sleep(2)  \n",
    "\n",
    "            except Exception as e:\n",
    "                print(\"No close button found. Exiting loop.\")\n",
    "                break  \n",
    "\n",
    "except Exception as e:\n",
    "    print(f\"An error occurred: {e}\")\n",
    "\n",
    "\n"
   ]
  },
  {
   "cell_type": "code",
   "execution_count": 68,
   "id": "25e32647",
   "metadata": {},
   "outputs": [],
   "source": [
    "file = 0 \n",
    "output_dir = './data'\n",
    "if not os.path.exists(output_dir):\n",
    "    os.makedirs(output_dir)\n",
    "\n",
    "\n"
   ]
  },
  {
   "cell_type": "code",
   "execution_count": 69,
   "id": "f42bfd87",
   "metadata": {},
   "outputs": [
    {
     "name": "stdout",
     "output_type": "stream",
     "text": [
      "884 items found\n"
     ]
    }
   ],
   "source": [
    "\n",
    "elems = driver.find_elements(By.CLASS_NAME, 'JobCard_jobCardContainer__arQlW')\n",
    "print(f'{len(elems)} items found')\n",
    "\n",
    "with open(f'./data/{file}.html', 'w', encoding = 'utf-8') as f:\n",
    "    for elem in elems:\n",
    "        d = elem.get_attribute('outerHTML')\n",
    "\n",
    "        f.write(d)\n",
    "       \n"
   ]
  },
  {
   "cell_type": "code",
   "execution_count": 70,
   "id": "c226001d",
   "metadata": {},
   "outputs": [
    {
     "name": "stdout",
     "output_type": "stream",
     "text": [
      "'charmap' codec can't decode byte 0x81 in position 376771: character maps to <undefined>\n",
      "1\n"
     ]
    }
   ],
   "source": [
    "from bs4 import BeautifulSoup\n",
    "\n",
    "    \n",
    "try:\n",
    "    with open(f'./data/{file}.html') as f:\n",
    "        html_doc = f.read()\n",
    "    soup = BeautifulSoup(html_doc, 'html.parser')\n",
    "\n",
    "    job = soup.find_all('div', attrs = {'class':'JobCard_jobCardContainer__arQlW'})\n",
    "    for j in job:\n",
    "        \n",
    "        \n",
    "        print(j.text)\n",
    "\n",
    "except Exception as e:\n",
    "    print(e)\n",
    "print(count)"
   ]
  },
  {
   "cell_type": "code",
   "execution_count": null,
   "id": "da4cdca9",
   "metadata": {},
   "outputs": [],
   "source": []
  },
  {
   "cell_type": "code",
   "execution_count": null,
   "id": "aaa799b2",
   "metadata": {},
   "outputs": [],
   "source": []
  }
 ],
 "metadata": {
  "kernelspec": {
   "display_name": "Python 3 (ipykernel)",
   "language": "python",
   "name": "python3"
  },
  "language_info": {
   "codemirror_mode": {
    "name": "ipython",
    "version": 3
   },
   "file_extension": ".py",
   "mimetype": "text/x-python",
   "name": "python",
   "nbconvert_exporter": "python",
   "pygments_lexer": "ipython3",
   "version": "3.11.7"
  }
 },
 "nbformat": 4,
 "nbformat_minor": 5
}
