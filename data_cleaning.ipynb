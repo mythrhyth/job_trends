{
 "cells": [
  {
   "cell_type": "markdown",
   "id": "d66e4ec7-1855-4728-9ab9-7b7447382001",
   "metadata": {},
   "source": [
    "### Getting a general view of DataFrame"
   ]
  },
  {
   "cell_type": "markdown",
   "id": "58497670-00d5-4739-96ae-4bfd7a5ab490",
   "metadata": {},
   "source": [
    "When we analysed the data from the website we got to know that some companies salary is in per month basis some in per hour basis and some in per year basis. So we are trying to bring uniformity in the data by converting all the salary ranges in per year basis."
   ]
  },
  {
   "cell_type": "code",
   "execution_count": 433,
   "id": "5f1cbc22-25ff-4789-a936-e88c4d6a74fa",
   "metadata": {},
   "outputs": [],
   "source": [
    "import pandas as pd"
   ]
  },
  {
   "cell_type": "code",
   "execution_count": 434,
   "id": "630db6a9-0186-4387-a212-2a99db4a29a1",
   "metadata": {},
   "outputs": [],
   "source": [
    "df = pd.read_csv('job_trends.csv')"
   ]
  },
  {
   "cell_type": "code",
   "execution_count": 435,
   "id": "faeae1fe-f130-49a8-9474-f00c1c8c9657",
   "metadata": {},
   "outputs": [
    {
     "data": {
      "text/html": [
       "<div>\n",
       "<style scoped>\n",
       "    .dataframe tbody tr th:only-of-type {\n",
       "        vertical-align: middle;\n",
       "    }\n",
       "\n",
       "    .dataframe tbody tr th {\n",
       "        vertical-align: top;\n",
       "    }\n",
       "\n",
       "    .dataframe thead th {\n",
       "        text-align: right;\n",
       "    }\n",
       "</style>\n",
       "<table border=\"1\" class=\"dataframe\">\n",
       "  <thead>\n",
       "    <tr style=\"text-align: right;\">\n",
       "      <th></th>\n",
       "      <th>company_name</th>\n",
       "      <th>job_role</th>\n",
       "      <th>job_location</th>\n",
       "      <th>salary</th>\n",
       "      <th>skills</th>\n",
       "      <th>company_rating</th>\n",
       "    </tr>\n",
       "  </thead>\n",
       "  <tbody>\n",
       "    <tr>\n",
       "      <th>0</th>\n",
       "      <td>BigSpire Software</td>\n",
       "      <td>Artificial Intelligence Researcher - Freshers</td>\n",
       "      <td>India</td>\n",
       "      <td>NaN</td>\n",
       "      <td>Analysis skills, AI, Communication skills</td>\n",
       "      <td>3.9</td>\n",
       "    </tr>\n",
       "    <tr>\n",
       "      <th>1</th>\n",
       "      <td>Recode Minds</td>\n",
       "      <td>Research Associate – Artificial Intelligence</td>\n",
       "      <td>Hyderābād</td>\n",
       "      <td>₹3L - ₹8L (Glassdoor Est.)</td>\n",
       "      <td>TensorFlow, MATLAB, Data mining, R, Math</td>\n",
       "      <td>NaN</td>\n",
       "    </tr>\n",
       "    <tr>\n",
       "      <th>2</th>\n",
       "      <td>cloudsek</td>\n",
       "      <td>Threat Intelligence Researcher</td>\n",
       "      <td>Delhi</td>\n",
       "      <td>NaN</td>\n",
       "      <td>Encryption, Machine learning, Cybersecurity, C...</td>\n",
       "      <td>3.8</td>\n",
       "    </tr>\n",
       "    <tr>\n",
       "      <th>3</th>\n",
       "      <td>Bosch Group</td>\n",
       "      <td>Researcher: Modelling and Simulations</td>\n",
       "      <td>Bengaluru</td>\n",
       "      <td>₹2L - ₹4L (Glassdoor Est.)</td>\n",
       "      <td>Image processing, Research, C++, Math, C</td>\n",
       "      <td>4.1</td>\n",
       "    </tr>\n",
       "    <tr>\n",
       "      <th>4</th>\n",
       "      <td>Microsoft</td>\n",
       "      <td>Researcher - Machine Learning and AI</td>\n",
       "      <td>Bengaluru</td>\n",
       "      <td>₹6L - ₹8L (Glassdoor Est.)</td>\n",
       "      <td>Machine learning, Natural language processing, AI</td>\n",
       "      <td>4.2</td>\n",
       "    </tr>\n",
       "  </tbody>\n",
       "</table>\n",
       "</div>"
      ],
      "text/plain": [
       "        company_name                                       job_role  \\\n",
       "0  BigSpire Software  Artificial Intelligence Researcher - Freshers   \n",
       "1       Recode Minds   Research Associate – Artificial Intelligence   \n",
       "2           cloudsek                 Threat Intelligence Researcher   \n",
       "3        Bosch Group          Researcher: Modelling and Simulations   \n",
       "4          Microsoft           Researcher - Machine Learning and AI   \n",
       "\n",
       "  job_location                      salary  \\\n",
       "0        India                         NaN   \n",
       "1    Hyderābād  ₹3L - ₹8L (Glassdoor Est.)   \n",
       "2        Delhi                         NaN   \n",
       "3    Bengaluru  ₹2L - ₹4L (Glassdoor Est.)   \n",
       "4    Bengaluru  ₹6L - ₹8L (Glassdoor Est.)   \n",
       "\n",
       "                                              skills  company_rating  \n",
       "0          Analysis skills, AI, Communication skills             3.9  \n",
       "1           TensorFlow, MATLAB, Data mining, R, Math             NaN  \n",
       "2  Encryption, Machine learning, Cybersecurity, C...             3.8  \n",
       "3           Image processing, Research, C++, Math, C             4.1  \n",
       "4  Machine learning, Natural language processing, AI             4.2  "
      ]
     },
     "execution_count": 435,
     "metadata": {},
     "output_type": "execute_result"
    }
   ],
   "source": [
    "df.head()"
   ]
  },
  {
   "cell_type": "markdown",
   "id": "b61780a9-949f-49a6-a2a8-732266e268a5",
   "metadata": {},
   "source": [
    "### Removing Duplicates"
   ]
  },
  {
   "cell_type": "code",
   "execution_count": 437,
   "id": "0ccc6c9a-b842-4bbf-b055-4d37e36df102",
   "metadata": {},
   "outputs": [
    {
     "data": {
      "text/plain": [
       "company_name         0\n",
       "job_role             0\n",
       "job_location         0\n",
       "salary            4870\n",
       "skills             425\n",
       "company_rating    6423\n",
       "dtype: int64"
      ]
     },
     "execution_count": 437,
     "metadata": {},
     "output_type": "execute_result"
    }
   ],
   "source": [
    "df.isnull().sum()"
   ]
  },
  {
   "cell_type": "code",
   "execution_count": 438,
   "id": "51dde7f3-d0a0-4da0-9d93-46e2994f10bf",
   "metadata": {},
   "outputs": [
    {
     "data": {
      "text/plain": [
       "2900"
      ]
     },
     "execution_count": 438,
     "metadata": {},
     "output_type": "execute_result"
    }
   ],
   "source": [
    "df.duplicated().sum()\n"
   ]
  },
  {
   "cell_type": "code",
   "execution_count": 439,
   "id": "bcb28e2c-aaa8-489c-9f2a-fb53ecd378ae",
   "metadata": {},
   "outputs": [],
   "source": [
    "df = df.drop_duplicates()"
   ]
  },
  {
   "cell_type": "code",
   "execution_count": 440,
   "id": "2f986684-0a8d-4d46-99db-2136823d48fc",
   "metadata": {},
   "outputs": [
    {
     "data": {
      "text/plain": [
       "0"
      ]
     },
     "execution_count": 440,
     "metadata": {},
     "output_type": "execute_result"
    }
   ],
   "source": [
    "df.duplicated().sum()"
   ]
  },
  {
   "cell_type": "code",
   "execution_count": 441,
   "id": "1632155e-1d57-4980-ae41-935662df58b8",
   "metadata": {},
   "outputs": [
    {
     "data": {
      "text/plain": [
       "company_name         0\n",
       "job_role             0\n",
       "job_location         0\n",
       "salary            4212\n",
       "skills             405\n",
       "company_rating    5572\n",
       "dtype: int64"
      ]
     },
     "execution_count": 441,
     "metadata": {},
     "output_type": "execute_result"
    }
   ],
   "source": [
    "df.isnull().sum()"
   ]
  },
  {
   "cell_type": "markdown",
   "id": "10049ea9-882c-45b0-b6fb-d11dd85c57aa",
   "metadata": {},
   "source": [
    "### Converting the dataframe columns into desired Datatype"
   ]
  },
  {
   "cell_type": "code",
   "execution_count": 443,
   "id": "deda807d-c623-40a2-b372-0f87c0bca03d",
   "metadata": {},
   "outputs": [
    {
     "name": "stdout",
     "output_type": "stream",
     "text": [
      "<class 'pandas.core.frame.DataFrame'>\n",
      "Index: 16952 entries, 0 to 19851\n",
      "Data columns (total 6 columns):\n",
      " #   Column          Non-Null Count  Dtype  \n",
      "---  ------          --------------  -----  \n",
      " 0   company_name    16952 non-null  object \n",
      " 1   job_role        16952 non-null  object \n",
      " 2   job_location    16952 non-null  object \n",
      " 3   salary          12740 non-null  object \n",
      " 4   skills          16547 non-null  object \n",
      " 5   company_rating  11380 non-null  float64\n",
      "dtypes: float64(1), object(5)\n",
      "memory usage: 927.1+ KB\n"
     ]
    }
   ],
   "source": [
    "df.info()"
   ]
  },
  {
   "cell_type": "code",
   "execution_count": 444,
   "id": "66d30515-3636-4b6d-9509-aad9f328e9ac",
   "metadata": {},
   "outputs": [],
   "source": [
    "df['company_rating'] = df['company_rating'].astype('float')"
   ]
  },
  {
   "cell_type": "code",
   "execution_count": 445,
   "id": "8ae603db-253b-4c29-91fe-5085a5282ec8",
   "metadata": {},
   "outputs": [],
   "source": [
    "df['company_name'] = df['company_name'].astype('string')"
   ]
  },
  {
   "cell_type": "code",
   "execution_count": 446,
   "id": "c8714625-5173-46e9-a37c-809cde9a733f",
   "metadata": {},
   "outputs": [],
   "source": [
    "df['job_role'] = df['job_role'].astype('string')"
   ]
  },
  {
   "cell_type": "code",
   "execution_count": 447,
   "id": "479af802-0d0b-4c96-976e-3cf03775d79c",
   "metadata": {},
   "outputs": [],
   "source": [
    "df['skills'] = df['skills'].astype('string')"
   ]
  },
  {
   "cell_type": "code",
   "execution_count": 448,
   "id": "1c1e32f8-37d5-4cce-b629-931546edd878",
   "metadata": {},
   "outputs": [],
   "source": [
    "df['job_location'] = df['job_location'].astype('string')"
   ]
  },
  {
   "cell_type": "code",
   "execution_count": 449,
   "id": "f2dde374-62d7-4b14-9fb8-4c10185bbbd1",
   "metadata": {},
   "outputs": [],
   "source": [
    "df.rename(columns = {'salary':'salary_pa'}, inplace = True)"
   ]
  },
  {
   "cell_type": "code",
   "execution_count": 450,
   "id": "ce85bd25-2ddc-47d9-ba0c-1b237441d94e",
   "metadata": {},
   "outputs": [
    {
     "name": "stdout",
     "output_type": "stream",
     "text": [
      "<class 'pandas.core.frame.DataFrame'>\n",
      "Index: 16952 entries, 0 to 19851\n",
      "Data columns (total 6 columns):\n",
      " #   Column          Non-Null Count  Dtype  \n",
      "---  ------          --------------  -----  \n",
      " 0   company_name    16952 non-null  string \n",
      " 1   job_role        16952 non-null  string \n",
      " 2   job_location    16952 non-null  string \n",
      " 3   salary_pa       12740 non-null  object \n",
      " 4   skills          16547 non-null  string \n",
      " 5   company_rating  11380 non-null  float64\n",
      "dtypes: float64(1), object(1), string(4)\n",
      "memory usage: 927.1+ KB\n"
     ]
    }
   ],
   "source": [
    "df.info()"
   ]
  },
  {
   "cell_type": "code",
   "execution_count": 451,
   "id": "655bd16d-0bd2-4528-a780-c8a6beda0ac1",
   "metadata": {},
   "outputs": [
    {
     "data": {
      "text/html": [
       "<div>\n",
       "<style scoped>\n",
       "    .dataframe tbody tr th:only-of-type {\n",
       "        vertical-align: middle;\n",
       "    }\n",
       "\n",
       "    .dataframe tbody tr th {\n",
       "        vertical-align: top;\n",
       "    }\n",
       "\n",
       "    .dataframe thead th {\n",
       "        text-align: right;\n",
       "    }\n",
       "</style>\n",
       "<table border=\"1\" class=\"dataframe\">\n",
       "  <thead>\n",
       "    <tr style=\"text-align: right;\">\n",
       "      <th></th>\n",
       "      <th>company_name</th>\n",
       "      <th>job_role</th>\n",
       "      <th>job_location</th>\n",
       "      <th>salary_pa</th>\n",
       "      <th>skills</th>\n",
       "      <th>company_rating</th>\n",
       "    </tr>\n",
       "  </thead>\n",
       "  <tbody>\n",
       "    <tr>\n",
       "      <th>0</th>\n",
       "      <td>BigSpire Software</td>\n",
       "      <td>Artificial Intelligence Researcher - Freshers</td>\n",
       "      <td>India</td>\n",
       "      <td>NaN</td>\n",
       "      <td>Analysis skills, AI, Communication skills</td>\n",
       "      <td>3.9</td>\n",
       "    </tr>\n",
       "    <tr>\n",
       "      <th>1</th>\n",
       "      <td>Recode Minds</td>\n",
       "      <td>Research Associate – Artificial Intelligence</td>\n",
       "      <td>Hyderābād</td>\n",
       "      <td>₹3L - ₹8L (Glassdoor Est.)</td>\n",
       "      <td>TensorFlow, MATLAB, Data mining, R, Math</td>\n",
       "      <td>NaN</td>\n",
       "    </tr>\n",
       "    <tr>\n",
       "      <th>2</th>\n",
       "      <td>cloudsek</td>\n",
       "      <td>Threat Intelligence Researcher</td>\n",
       "      <td>Delhi</td>\n",
       "      <td>NaN</td>\n",
       "      <td>Encryption, Machine learning, Cybersecurity, C...</td>\n",
       "      <td>3.8</td>\n",
       "    </tr>\n",
       "    <tr>\n",
       "      <th>3</th>\n",
       "      <td>Bosch Group</td>\n",
       "      <td>Researcher: Modelling and Simulations</td>\n",
       "      <td>Bengaluru</td>\n",
       "      <td>₹2L - ₹4L (Glassdoor Est.)</td>\n",
       "      <td>Image processing, Research, C++, Math, C</td>\n",
       "      <td>4.1</td>\n",
       "    </tr>\n",
       "    <tr>\n",
       "      <th>4</th>\n",
       "      <td>Microsoft</td>\n",
       "      <td>Researcher - Machine Learning and AI</td>\n",
       "      <td>Bengaluru</td>\n",
       "      <td>₹6L - ₹8L (Glassdoor Est.)</td>\n",
       "      <td>Machine learning, Natural language processing, AI</td>\n",
       "      <td>4.2</td>\n",
       "    </tr>\n",
       "  </tbody>\n",
       "</table>\n",
       "</div>"
      ],
      "text/plain": [
       "        company_name                                       job_role  \\\n",
       "0  BigSpire Software  Artificial Intelligence Researcher - Freshers   \n",
       "1       Recode Minds   Research Associate – Artificial Intelligence   \n",
       "2           cloudsek                 Threat Intelligence Researcher   \n",
       "3        Bosch Group          Researcher: Modelling and Simulations   \n",
       "4          Microsoft           Researcher - Machine Learning and AI   \n",
       "\n",
       "  job_location                   salary_pa  \\\n",
       "0        India                         NaN   \n",
       "1    Hyderābād  ₹3L - ₹8L (Glassdoor Est.)   \n",
       "2        Delhi                         NaN   \n",
       "3    Bengaluru  ₹2L - ₹4L (Glassdoor Est.)   \n",
       "4    Bengaluru  ₹6L - ₹8L (Glassdoor Est.)   \n",
       "\n",
       "                                              skills  company_rating  \n",
       "0          Analysis skills, AI, Communication skills             3.9  \n",
       "1           TensorFlow, MATLAB, Data mining, R, Math             NaN  \n",
       "2  Encryption, Machine learning, Cybersecurity, C...             3.8  \n",
       "3           Image processing, Research, C++, Math, C             4.1  \n",
       "4  Machine learning, Natural language processing, AI             4.2  "
      ]
     },
     "execution_count": 451,
     "metadata": {},
     "output_type": "execute_result"
    }
   ],
   "source": [
    "df.head()"
   ]
  },
  {
   "cell_type": "markdown",
   "id": "95a6e449-9703-4b50-97a3-f0e10ef48f82",
   "metadata": {},
   "source": [
    "### Converting Salary ranges to average Salary in Per Annum (PA)"
   ]
  },
  {
   "cell_type": "markdown",
   "id": "f2e7fba2-d9cc-4a06-86fe-a3a715eebfc0",
   "metadata": {},
   "source": [
    "#### Let us check what alphanumeric characters are present in salary column except for numbers"
   ]
  },
  {
   "cell_type": "code",
   "execution_count": 454,
   "id": "8979fbb7-1dca-46ab-8788-cb441da6b848",
   "metadata": {},
   "outputs": [],
   "source": [
    "df['salary_words'] = df['salary_pa'].str.extractall(r'([a-zA-Z]+(?: [a-zA-Z]+)*)').groupby(level=0).agg(' '.join)"
   ]
  },
  {
   "cell_type": "code",
   "execution_count": 455,
   "id": "8fe3c49a-e493-464c-9564-9feea60f238a",
   "metadata": {},
   "outputs": [
    {
     "data": {
      "text/plain": [
       "salary_words\n",
       "L L Glassdoor Est        5955\n",
       "T T Employer Est         2356\n",
       "L L Employer Est         2070\n",
       "L Employer Est            566\n",
       "T Employer Est            540\n",
       "K K Glassdoor est         404\n",
       "L Glassdoor Est           385\n",
       "K K Employer est          105\n",
       "T L Employer Est           82\n",
       "Per hour Employer Est      81\n",
       "T L Glassdoor Est          43\n",
       "M Employer est             32\n",
       "M M Employer est           31\n",
       "K M Employer est           31\n",
       "K Employer est             26\n",
       "K M Glassdoor est          14\n",
       "T T Glassdoor Est          10\n",
       "K Glassdoor est             3\n",
       "T Glassdoor Est             3\n",
       "Per Hour Employer est       2\n",
       "M Glassdoor est             1\n",
       "Name: count, dtype: int64"
      ]
     },
     "execution_count": 455,
     "metadata": {},
     "output_type": "execute_result"
    }
   ],
   "source": [
    "df['salary_words'].value_counts()"
   ]
  },
  {
   "cell_type": "markdown",
   "id": "79fa9344-b3e7-4e0b-a610-f7626f1139ca",
   "metadata": {},
   "source": [
    "### In the above code we view the alphabets and words that are used in the salary column and deal with them accordingly."
   ]
  },
  {
   "cell_type": "code",
   "execution_count": 457,
   "id": "823eddbb-1e05-459a-8465-2ac5b98ec721",
   "metadata": {},
   "outputs": [],
   "source": [
    "df['salary_pa'] = df['salary_pa'].str.replace(r'\\s*\\((Glassdoor|Employer) (Est|est)\\.\\)', '', regex=True)"
   ]
  },
  {
   "cell_type": "code",
   "execution_count": 458,
   "id": "380ef6ac-325a-48f7-aba5-00e7e0ddf21d",
   "metadata": {},
   "outputs": [],
   "source": [
    "df['salary_words'] = df['salary_pa'].str.extractall(r'([a-zA-Z]+(?: [a-zA-Z]+)*)').groupby(level=0).agg(' '.join)"
   ]
  },
  {
   "cell_type": "code",
   "execution_count": 459,
   "id": "e9119e92-3bcc-48fa-8296-d30fdc382280",
   "metadata": {},
   "outputs": [
    {
     "data": {
      "text/plain": [
       "salary_words\n",
       "L L         8025\n",
       "T T         2366\n",
       "L            951\n",
       "T            543\n",
       "K K          509\n",
       "T L          125\n",
       "Per hour      81\n",
       "K M           45\n",
       "M             33\n",
       "M M           31\n",
       "K             29\n",
       "Per Hour       2\n",
       "Name: count, dtype: int64"
      ]
     },
     "execution_count": 459,
     "metadata": {},
     "output_type": "execute_result"
    }
   ],
   "source": [
    "df['salary_words'].value_counts()"
   ]
  },
  {
   "cell_type": "code",
   "execution_count": 460,
   "id": "cb63e1b7-ca4a-4429-842b-c613ac03ea62",
   "metadata": {},
   "outputs": [],
   "source": [
    "df.loc[(df['salary_words'] == 'T L' )| (df['salary_words'] == 'K M'), 'salary_pa'] = df.loc[(df['salary_words'] == 'T L') | (df['salary_words'] == 'K M'), 'salary_pa'].apply(lambda x: str(x).replace('L', '*1200000').replace('M', '12000000'))"
   ]
  },
  {
   "cell_type": "code",
   "execution_count": 461,
   "id": "85cedce3-742a-4a15-aa4a-04a4329124dc",
   "metadata": {},
   "outputs": [],
   "source": [
    "df['salary_pa'] = (\n",
    "                    df['salary_pa']\n",
    "                    .str.replace('₹', '', regex = False)\n",
    "                    .str.replace('L', '*100000', regex = False)\n",
    "                    .str.replace('T', '*12000', regex = False)\n",
    "                    .str.replace('K', '*12000', regex  = False)\n",
    "                    .str.replace('Per hour', '*1920', regex = False)\n",
    "                    .str.replace('Per Hour', '*1920', regex = False)\n",
    "                    .str.replace('M', '*1000000', regex = False)\n",
    "                    \n",
    "                   )"
   ]
  },
  {
   "cell_type": "code",
   "execution_count": 462,
   "id": "617c5bbb-0a23-44c7-b5df-7eee86b0df14",
   "metadata": {},
   "outputs": [
    {
     "data": {
      "text/plain": [
       "0                        NaN\n",
       "1        3*100000 - 8*100000\n",
       "2                        NaN\n",
       "3        2*100000 - 4*100000\n",
       "4        6*100000 - 8*100000\n",
       "                ...         \n",
       "19847                    NaN\n",
       "19848    2*100000 - 7*100000\n",
       "19849    4*100000 - 6*100000\n",
       "19850    3*100000 - 4*100000\n",
       "19851                    NaN\n",
       "Name: salary_pa, Length: 16952, dtype: object"
      ]
     },
     "execution_count": 462,
     "metadata": {},
     "output_type": "execute_result"
    }
   ],
   "source": [
    "df['salary_pa']"
   ]
  },
  {
   "cell_type": "markdown",
   "id": "249f3184-6056-4115-86b3-f546c7fc81a4",
   "metadata": {},
   "source": [
    "### Now lets check if there are any other alphanumeric characters left in salary column"
   ]
  },
  {
   "cell_type": "code",
   "execution_count": 464,
   "id": "2a849b75-6e9b-41e3-ac96-463d43301afe",
   "metadata": {},
   "outputs": [],
   "source": [
    "df['salary_words'] = df['salary_pa'].str.extractall(r'([a-zA-Z]+(?: [a-zA-Z]+)*)').groupby(level=0).agg(' '.join)"
   ]
  },
  {
   "cell_type": "code",
   "execution_count": 465,
   "id": "41d09396-0dfc-412f-a1e7-67459174057e",
   "metadata": {},
   "outputs": [
    {
     "data": {
      "text/plain": [
       "Series([], Name: count, dtype: int64)"
      ]
     },
     "execution_count": 465,
     "metadata": {},
     "output_type": "execute_result"
    }
   ],
   "source": [
    "df['salary_words'].value_counts()"
   ]
  },
  {
   "cell_type": "markdown",
   "id": "11929c2f-b89a-45b6-9ff0-8913aa3bb0d1",
   "metadata": {},
   "source": [
    "### Since there are no other words we are good to go."
   ]
  },
  {
   "cell_type": "markdown",
   "id": "fc250c2d-0bbc-43d5-945c-2f32f686ef76",
   "metadata": {},
   "source": [
    "#### Handling NaN values"
   ]
  },
  {
   "cell_type": "code",
   "execution_count": 468,
   "id": "39a56abc-b86b-4ac3-8a8a-797f65eb1e1b",
   "metadata": {},
   "outputs": [],
   "source": [
    "df['salary_pa'] = df['salary_pa'].fillna(0)"
   ]
  },
  {
   "cell_type": "code",
   "execution_count": 469,
   "id": "be63ac98-3962-45ee-bd94-d377d4206ad1",
   "metadata": {},
   "outputs": [],
   "source": [
    "df[['min_salary_pa', 'max_salary_pa']] = df['salary_pa'].str.split('-', expand = True)"
   ]
  },
  {
   "cell_type": "code",
   "execution_count": 470,
   "id": "527e4fe0-3c9e-486f-a819-c3d6fad18912",
   "metadata": {},
   "outputs": [
    {
     "data": {
      "text/html": [
       "<div>\n",
       "<style scoped>\n",
       "    .dataframe tbody tr th:only-of-type {\n",
       "        vertical-align: middle;\n",
       "    }\n",
       "\n",
       "    .dataframe tbody tr th {\n",
       "        vertical-align: top;\n",
       "    }\n",
       "\n",
       "    .dataframe thead th {\n",
       "        text-align: right;\n",
       "    }\n",
       "</style>\n",
       "<table border=\"1\" class=\"dataframe\">\n",
       "  <thead>\n",
       "    <tr style=\"text-align: right;\">\n",
       "      <th></th>\n",
       "      <th>company_name</th>\n",
       "      <th>job_role</th>\n",
       "      <th>job_location</th>\n",
       "      <th>salary_pa</th>\n",
       "      <th>skills</th>\n",
       "      <th>company_rating</th>\n",
       "      <th>salary_words</th>\n",
       "      <th>min_salary_pa</th>\n",
       "      <th>max_salary_pa</th>\n",
       "    </tr>\n",
       "  </thead>\n",
       "  <tbody>\n",
       "    <tr>\n",
       "      <th>0</th>\n",
       "      <td>BigSpire Software</td>\n",
       "      <td>Artificial Intelligence Researcher - Freshers</td>\n",
       "      <td>India</td>\n",
       "      <td>0</td>\n",
       "      <td>Analysis skills, AI, Communication skills</td>\n",
       "      <td>3.9</td>\n",
       "      <td>NaN</td>\n",
       "      <td>NaN</td>\n",
       "      <td>NaN</td>\n",
       "    </tr>\n",
       "    <tr>\n",
       "      <th>1</th>\n",
       "      <td>Recode Minds</td>\n",
       "      <td>Research Associate – Artificial Intelligence</td>\n",
       "      <td>Hyderābād</td>\n",
       "      <td>3*100000 - 8*100000</td>\n",
       "      <td>TensorFlow, MATLAB, Data mining, R, Math</td>\n",
       "      <td>NaN</td>\n",
       "      <td>NaN</td>\n",
       "      <td>3*100000</td>\n",
       "      <td>8*100000</td>\n",
       "    </tr>\n",
       "    <tr>\n",
       "      <th>2</th>\n",
       "      <td>cloudsek</td>\n",
       "      <td>Threat Intelligence Researcher</td>\n",
       "      <td>Delhi</td>\n",
       "      <td>0</td>\n",
       "      <td>Encryption, Machine learning, Cybersecurity, C...</td>\n",
       "      <td>3.8</td>\n",
       "      <td>NaN</td>\n",
       "      <td>NaN</td>\n",
       "      <td>NaN</td>\n",
       "    </tr>\n",
       "    <tr>\n",
       "      <th>3</th>\n",
       "      <td>Bosch Group</td>\n",
       "      <td>Researcher: Modelling and Simulations</td>\n",
       "      <td>Bengaluru</td>\n",
       "      <td>2*100000 - 4*100000</td>\n",
       "      <td>Image processing, Research, C++, Math, C</td>\n",
       "      <td>4.1</td>\n",
       "      <td>NaN</td>\n",
       "      <td>2*100000</td>\n",
       "      <td>4*100000</td>\n",
       "    </tr>\n",
       "    <tr>\n",
       "      <th>4</th>\n",
       "      <td>Microsoft</td>\n",
       "      <td>Researcher - Machine Learning and AI</td>\n",
       "      <td>Bengaluru</td>\n",
       "      <td>6*100000 - 8*100000</td>\n",
       "      <td>Machine learning, Natural language processing, AI</td>\n",
       "      <td>4.2</td>\n",
       "      <td>NaN</td>\n",
       "      <td>6*100000</td>\n",
       "      <td>8*100000</td>\n",
       "    </tr>\n",
       "  </tbody>\n",
       "</table>\n",
       "</div>"
      ],
      "text/plain": [
       "        company_name                                       job_role  \\\n",
       "0  BigSpire Software  Artificial Intelligence Researcher - Freshers   \n",
       "1       Recode Minds   Research Associate – Artificial Intelligence   \n",
       "2           cloudsek                 Threat Intelligence Researcher   \n",
       "3        Bosch Group          Researcher: Modelling and Simulations   \n",
       "4          Microsoft           Researcher - Machine Learning and AI   \n",
       "\n",
       "  job_location            salary_pa  \\\n",
       "0        India                    0   \n",
       "1    Hyderābād  3*100000 - 8*100000   \n",
       "2        Delhi                    0   \n",
       "3    Bengaluru  2*100000 - 4*100000   \n",
       "4    Bengaluru  6*100000 - 8*100000   \n",
       "\n",
       "                                              skills  company_rating  \\\n",
       "0          Analysis skills, AI, Communication skills             3.9   \n",
       "1           TensorFlow, MATLAB, Data mining, R, Math             NaN   \n",
       "2  Encryption, Machine learning, Cybersecurity, C...             3.8   \n",
       "3           Image processing, Research, C++, Math, C             4.1   \n",
       "4  Machine learning, Natural language processing, AI             4.2   \n",
       "\n",
       "  salary_words min_salary_pa max_salary_pa  \n",
       "0          NaN           NaN           NaN  \n",
       "1          NaN     3*100000       8*100000  \n",
       "2          NaN           NaN           NaN  \n",
       "3          NaN     2*100000       4*100000  \n",
       "4          NaN     6*100000       8*100000  "
      ]
     },
     "execution_count": 470,
     "metadata": {},
     "output_type": "execute_result"
    }
   ],
   "source": [
    "df.head()"
   ]
  },
  {
   "cell_type": "code",
   "execution_count": 471,
   "id": "c5d36d13-8214-408d-83da-165194e5216f",
   "metadata": {},
   "outputs": [],
   "source": [
    "df['min_salary_pa'] = df['min_salary_pa'].fillna(0)\n",
    "df['max_salary_pa'] = df['max_salary_pa'].fillna(0)"
   ]
  },
  {
   "cell_type": "code",
   "execution_count": 472,
   "id": "de17a0c2-ff12-445a-b9fe-937bf8422c28",
   "metadata": {},
   "outputs": [],
   "source": [
    "df['min_salary_pa'] = df['min_salary_pa'].astype('str')"
   ]
  },
  {
   "cell_type": "code",
   "execution_count": 473,
   "id": "0f47e99b-061a-4f64-8a68-615e225ae311",
   "metadata": {},
   "outputs": [
    {
     "name": "stdout",
     "output_type": "stream",
     "text": [
      "<class 'pandas.core.frame.DataFrame'>\n",
      "Index: 16952 entries, 0 to 19851\n",
      "Data columns (total 9 columns):\n",
      " #   Column          Non-Null Count  Dtype  \n",
      "---  ------          --------------  -----  \n",
      " 0   company_name    16952 non-null  string \n",
      " 1   job_role        16952 non-null  string \n",
      " 2   job_location    16952 non-null  string \n",
      " 3   salary_pa       16952 non-null  object \n",
      " 4   skills          16547 non-null  string \n",
      " 5   company_rating  11380 non-null  float64\n",
      " 6   salary_words    0 non-null      object \n",
      " 7   min_salary_pa   16952 non-null  object \n",
      " 8   max_salary_pa   16952 non-null  object \n",
      "dtypes: float64(1), object(4), string(4)\n",
      "memory usage: 1.3+ MB\n"
     ]
    }
   ],
   "source": [
    "df.info()"
   ]
  },
  {
   "cell_type": "markdown",
   "id": "f373adb0-cedc-46bb-8a3c-daef127b51ef",
   "metadata": {},
   "source": [
    "### Checking for any non printable characters"
   ]
  },
  {
   "cell_type": "code",
   "execution_count": 475,
   "id": "33bc8708-92bc-496b-ba9d-ecd6faa9266b",
   "metadata": {},
   "outputs": [],
   "source": [
    "import re\n",
    "def cleanstring(s):\n",
    "    return re.sub(r'[\\x00-\\x1F\\x7F\\xA0]', '', s)"
   ]
  },
  {
   "cell_type": "code",
   "execution_count": 476,
   "id": "c8b2c1f8-0e0f-4a66-af4c-20bc11aee0e5",
   "metadata": {},
   "outputs": [],
   "source": [
    "df['min_salary_pa'] = df['min_salary_pa'].astype('str').apply(cleanstring)\n",
    "df['max_salary_pa'] = df['max_salary_pa'].astype('str').apply(cleanstring)"
   ]
  },
  {
   "cell_type": "code",
   "execution_count": 477,
   "id": "585b4f4d-fcfa-47db-9894-776907326440",
   "metadata": {},
   "outputs": [],
   "source": [
    "df['min_salary_pa'] = df['min_salary_pa'].apply(eval)\n",
    "df['max_salary_pa'] = df['max_salary_pa'].apply(eval)\n"
   ]
  },
  {
   "cell_type": "code",
   "execution_count": 478,
   "id": "a84ea116-8482-4620-8c63-7e5d2c1bc1f5",
   "metadata": {},
   "outputs": [
    {
     "data": {
      "text/html": [
       "<div>\n",
       "<style scoped>\n",
       "    .dataframe tbody tr th:only-of-type {\n",
       "        vertical-align: middle;\n",
       "    }\n",
       "\n",
       "    .dataframe tbody tr th {\n",
       "        vertical-align: top;\n",
       "    }\n",
       "\n",
       "    .dataframe thead th {\n",
       "        text-align: right;\n",
       "    }\n",
       "</style>\n",
       "<table border=\"1\" class=\"dataframe\">\n",
       "  <thead>\n",
       "    <tr style=\"text-align: right;\">\n",
       "      <th></th>\n",
       "      <th>company_name</th>\n",
       "      <th>job_role</th>\n",
       "      <th>job_location</th>\n",
       "      <th>salary_pa</th>\n",
       "      <th>skills</th>\n",
       "      <th>company_rating</th>\n",
       "      <th>salary_words</th>\n",
       "      <th>min_salary_pa</th>\n",
       "      <th>max_salary_pa</th>\n",
       "    </tr>\n",
       "  </thead>\n",
       "  <tbody>\n",
       "    <tr>\n",
       "      <th>0</th>\n",
       "      <td>BigSpire Software</td>\n",
       "      <td>Artificial Intelligence Researcher - Freshers</td>\n",
       "      <td>India</td>\n",
       "      <td>0</td>\n",
       "      <td>Analysis skills, AI, Communication skills</td>\n",
       "      <td>3.9</td>\n",
       "      <td>NaN</td>\n",
       "      <td>0</td>\n",
       "      <td>0</td>\n",
       "    </tr>\n",
       "    <tr>\n",
       "      <th>1</th>\n",
       "      <td>Recode Minds</td>\n",
       "      <td>Research Associate – Artificial Intelligence</td>\n",
       "      <td>Hyderābād</td>\n",
       "      <td>3*100000 - 8*100000</td>\n",
       "      <td>TensorFlow, MATLAB, Data mining, R, Math</td>\n",
       "      <td>NaN</td>\n",
       "      <td>NaN</td>\n",
       "      <td>300000</td>\n",
       "      <td>800000</td>\n",
       "    </tr>\n",
       "    <tr>\n",
       "      <th>2</th>\n",
       "      <td>cloudsek</td>\n",
       "      <td>Threat Intelligence Researcher</td>\n",
       "      <td>Delhi</td>\n",
       "      <td>0</td>\n",
       "      <td>Encryption, Machine learning, Cybersecurity, C...</td>\n",
       "      <td>3.8</td>\n",
       "      <td>NaN</td>\n",
       "      <td>0</td>\n",
       "      <td>0</td>\n",
       "    </tr>\n",
       "    <tr>\n",
       "      <th>3</th>\n",
       "      <td>Bosch Group</td>\n",
       "      <td>Researcher: Modelling and Simulations</td>\n",
       "      <td>Bengaluru</td>\n",
       "      <td>2*100000 - 4*100000</td>\n",
       "      <td>Image processing, Research, C++, Math, C</td>\n",
       "      <td>4.1</td>\n",
       "      <td>NaN</td>\n",
       "      <td>200000</td>\n",
       "      <td>400000</td>\n",
       "    </tr>\n",
       "    <tr>\n",
       "      <th>4</th>\n",
       "      <td>Microsoft</td>\n",
       "      <td>Researcher - Machine Learning and AI</td>\n",
       "      <td>Bengaluru</td>\n",
       "      <td>6*100000 - 8*100000</td>\n",
       "      <td>Machine learning, Natural language processing, AI</td>\n",
       "      <td>4.2</td>\n",
       "      <td>NaN</td>\n",
       "      <td>600000</td>\n",
       "      <td>800000</td>\n",
       "    </tr>\n",
       "  </tbody>\n",
       "</table>\n",
       "</div>"
      ],
      "text/plain": [
       "        company_name                                       job_role  \\\n",
       "0  BigSpire Software  Artificial Intelligence Researcher - Freshers   \n",
       "1       Recode Minds   Research Associate – Artificial Intelligence   \n",
       "2           cloudsek                 Threat Intelligence Researcher   \n",
       "3        Bosch Group          Researcher: Modelling and Simulations   \n",
       "4          Microsoft           Researcher - Machine Learning and AI   \n",
       "\n",
       "  job_location            salary_pa  \\\n",
       "0        India                    0   \n",
       "1    Hyderābād  3*100000 - 8*100000   \n",
       "2        Delhi                    0   \n",
       "3    Bengaluru  2*100000 - 4*100000   \n",
       "4    Bengaluru  6*100000 - 8*100000   \n",
       "\n",
       "                                              skills  company_rating  \\\n",
       "0          Analysis skills, AI, Communication skills             3.9   \n",
       "1           TensorFlow, MATLAB, Data mining, R, Math             NaN   \n",
       "2  Encryption, Machine learning, Cybersecurity, C...             3.8   \n",
       "3           Image processing, Research, C++, Math, C             4.1   \n",
       "4  Machine learning, Natural language processing, AI             4.2   \n",
       "\n",
       "  salary_words min_salary_pa max_salary_pa  \n",
       "0          NaN             0             0  \n",
       "1          NaN        300000        800000  \n",
       "2          NaN             0             0  \n",
       "3          NaN        200000        400000  \n",
       "4          NaN        600000        800000  "
      ]
     },
     "execution_count": 478,
     "metadata": {},
     "output_type": "execute_result"
    }
   ],
   "source": [
    "df.head()"
   ]
  },
  {
   "cell_type": "markdown",
   "id": "7e612033-d165-424b-9db8-7c4b457774e5",
   "metadata": {},
   "source": [
    "### Calculating the salary as the average of min_salary and max_salary"
   ]
  },
  {
   "cell_type": "code",
   "execution_count": 480,
   "id": "7143360d-1ca0-48f0-b924-e7a55e5a17d4",
   "metadata": {},
   "outputs": [],
   "source": [
    "df['min_salary_pa'] = pd.to_numeric(df['min_salary_pa'], errors='coerce')\n",
    "df['max_salary_pa'] = pd.to_numeric(df['max_salary_pa'], errors='coerce')"
   ]
  },
  {
   "cell_type": "code",
   "execution_count": 481,
   "id": "1de0295b-9557-4b6a-8359-773e4a1a54b7",
   "metadata": {},
   "outputs": [],
   "source": [
    "df['salary_pa'] = (df['min_salary_pa'] + df['max_salary_pa'])//2"
   ]
  },
  {
   "cell_type": "code",
   "execution_count": 482,
   "id": "fe1f6fed-339b-4084-a5d3-023b6ff20d99",
   "metadata": {},
   "outputs": [
    {
     "data": {
      "text/html": [
       "<div>\n",
       "<style scoped>\n",
       "    .dataframe tbody tr th:only-of-type {\n",
       "        vertical-align: middle;\n",
       "    }\n",
       "\n",
       "    .dataframe tbody tr th {\n",
       "        vertical-align: top;\n",
       "    }\n",
       "\n",
       "    .dataframe thead th {\n",
       "        text-align: right;\n",
       "    }\n",
       "</style>\n",
       "<table border=\"1\" class=\"dataframe\">\n",
       "  <thead>\n",
       "    <tr style=\"text-align: right;\">\n",
       "      <th></th>\n",
       "      <th>company_name</th>\n",
       "      <th>job_role</th>\n",
       "      <th>job_location</th>\n",
       "      <th>salary_pa</th>\n",
       "      <th>skills</th>\n",
       "      <th>company_rating</th>\n",
       "      <th>salary_words</th>\n",
       "      <th>min_salary_pa</th>\n",
       "      <th>max_salary_pa</th>\n",
       "    </tr>\n",
       "  </thead>\n",
       "  <tbody>\n",
       "    <tr>\n",
       "      <th>0</th>\n",
       "      <td>BigSpire Software</td>\n",
       "      <td>Artificial Intelligence Researcher - Freshers</td>\n",
       "      <td>India</td>\n",
       "      <td>0.0</td>\n",
       "      <td>Analysis skills, AI, Communication skills</td>\n",
       "      <td>3.9</td>\n",
       "      <td>NaN</td>\n",
       "      <td>0.0</td>\n",
       "      <td>0.0</td>\n",
       "    </tr>\n",
       "    <tr>\n",
       "      <th>1</th>\n",
       "      <td>Recode Minds</td>\n",
       "      <td>Research Associate – Artificial Intelligence</td>\n",
       "      <td>Hyderābād</td>\n",
       "      <td>550000.0</td>\n",
       "      <td>TensorFlow, MATLAB, Data mining, R, Math</td>\n",
       "      <td>NaN</td>\n",
       "      <td>NaN</td>\n",
       "      <td>300000.0</td>\n",
       "      <td>800000.0</td>\n",
       "    </tr>\n",
       "    <tr>\n",
       "      <th>2</th>\n",
       "      <td>cloudsek</td>\n",
       "      <td>Threat Intelligence Researcher</td>\n",
       "      <td>Delhi</td>\n",
       "      <td>0.0</td>\n",
       "      <td>Encryption, Machine learning, Cybersecurity, C...</td>\n",
       "      <td>3.8</td>\n",
       "      <td>NaN</td>\n",
       "      <td>0.0</td>\n",
       "      <td>0.0</td>\n",
       "    </tr>\n",
       "    <tr>\n",
       "      <th>3</th>\n",
       "      <td>Bosch Group</td>\n",
       "      <td>Researcher: Modelling and Simulations</td>\n",
       "      <td>Bengaluru</td>\n",
       "      <td>300000.0</td>\n",
       "      <td>Image processing, Research, C++, Math, C</td>\n",
       "      <td>4.1</td>\n",
       "      <td>NaN</td>\n",
       "      <td>200000.0</td>\n",
       "      <td>400000.0</td>\n",
       "    </tr>\n",
       "    <tr>\n",
       "      <th>4</th>\n",
       "      <td>Microsoft</td>\n",
       "      <td>Researcher - Machine Learning and AI</td>\n",
       "      <td>Bengaluru</td>\n",
       "      <td>700000.0</td>\n",
       "      <td>Machine learning, Natural language processing, AI</td>\n",
       "      <td>4.2</td>\n",
       "      <td>NaN</td>\n",
       "      <td>600000.0</td>\n",
       "      <td>800000.0</td>\n",
       "    </tr>\n",
       "  </tbody>\n",
       "</table>\n",
       "</div>"
      ],
      "text/plain": [
       "        company_name                                       job_role  \\\n",
       "0  BigSpire Software  Artificial Intelligence Researcher - Freshers   \n",
       "1       Recode Minds   Research Associate – Artificial Intelligence   \n",
       "2           cloudsek                 Threat Intelligence Researcher   \n",
       "3        Bosch Group          Researcher: Modelling and Simulations   \n",
       "4          Microsoft           Researcher - Machine Learning and AI   \n",
       "\n",
       "  job_location  salary_pa                                             skills  \\\n",
       "0        India        0.0          Analysis skills, AI, Communication skills   \n",
       "1    Hyderābād   550000.0           TensorFlow, MATLAB, Data mining, R, Math   \n",
       "2        Delhi        0.0  Encryption, Machine learning, Cybersecurity, C...   \n",
       "3    Bengaluru   300000.0           Image processing, Research, C++, Math, C   \n",
       "4    Bengaluru   700000.0  Machine learning, Natural language processing, AI   \n",
       "\n",
       "   company_rating salary_words  min_salary_pa  max_salary_pa  \n",
       "0             3.9          NaN            0.0            0.0  \n",
       "1             NaN          NaN       300000.0       800000.0  \n",
       "2             3.8          NaN            0.0            0.0  \n",
       "3             4.1          NaN       200000.0       400000.0  \n",
       "4             4.2          NaN       600000.0       800000.0  "
      ]
     },
     "execution_count": 482,
     "metadata": {},
     "output_type": "execute_result"
    }
   ],
   "source": [
    "df.head()"
   ]
  },
  {
   "cell_type": "code",
   "execution_count": 483,
   "id": "88968c50-4f7d-4255-a6f9-e14e727ab2df",
   "metadata": {},
   "outputs": [],
   "source": [
    "df = df.drop(columns = ['min_salary_pa', 'max_salary_pa', 'salary_words']).reset_index()"
   ]
  },
  {
   "cell_type": "markdown",
   "id": "077ec953-2b5d-43c6-9199-685777962c45",
   "metadata": {},
   "source": [
    "### Converting per month salaries to per year"
   ]
  },
  {
   "cell_type": "code",
   "execution_count": 485,
   "id": "5e18aab8-80f1-4886-9c22-8f7dbe7eb658",
   "metadata": {},
   "outputs": [],
   "source": [
    "df.loc[df['salary_pa'] <= 100000, 'salary_pa']*= 12"
   ]
  },
  {
   "cell_type": "code",
   "execution_count": 486,
   "id": "0f0ffef2-65b4-48ec-8e2c-37dba2a94d62",
   "metadata": {},
   "outputs": [
    {
     "data": {
      "text/html": [
       "<div>\n",
       "<style scoped>\n",
       "    .dataframe tbody tr th:only-of-type {\n",
       "        vertical-align: middle;\n",
       "    }\n",
       "\n",
       "    .dataframe tbody tr th {\n",
       "        vertical-align: top;\n",
       "    }\n",
       "\n",
       "    .dataframe thead th {\n",
       "        text-align: right;\n",
       "    }\n",
       "</style>\n",
       "<table border=\"1\" class=\"dataframe\">\n",
       "  <thead>\n",
       "    <tr style=\"text-align: right;\">\n",
       "      <th></th>\n",
       "      <th>index</th>\n",
       "      <th>company_name</th>\n",
       "      <th>job_role</th>\n",
       "      <th>job_location</th>\n",
       "      <th>salary_pa</th>\n",
       "      <th>skills</th>\n",
       "      <th>company_rating</th>\n",
       "    </tr>\n",
       "  </thead>\n",
       "  <tbody>\n",
       "    <tr>\n",
       "      <th>14410</th>\n",
       "      <td>16794</td>\n",
       "      <td>Microsoft</td>\n",
       "      <td>Software Engineering</td>\n",
       "      <td>Bengaluru</td>\n",
       "      <td>600000.0</td>\n",
       "      <td>Azure, C#, Microsoft Office, .NET, Algorithm d...</td>\n",
       "      <td>4.2</td>\n",
       "    </tr>\n",
       "    <tr>\n",
       "      <th>6986</th>\n",
       "      <td>7453</td>\n",
       "      <td>Adobe</td>\n",
       "      <td>Member of Technical Staff II</td>\n",
       "      <td>Noida</td>\n",
       "      <td>0.0</td>\n",
       "      <td>Computer science, Data structures, Windows, Ap...</td>\n",
       "      <td>4.2</td>\n",
       "    </tr>\n",
       "    <tr>\n",
       "      <th>8953</th>\n",
       "      <td>9742</td>\n",
       "      <td>AGAADH GAMES</td>\n",
       "      <td>Sound Designer</td>\n",
       "      <td>India</td>\n",
       "      <td>270000.0</td>\n",
       "      <td>Unity, Middleware, Communication skills</td>\n",
       "      <td>NaN</td>\n",
       "    </tr>\n",
       "    <tr>\n",
       "      <th>12631</th>\n",
       "      <td>14276</td>\n",
       "      <td>Coelentera Technologies</td>\n",
       "      <td>Product Manager</td>\n",
       "      <td>Hyderābād</td>\n",
       "      <td>700000.0</td>\n",
       "      <td>Business analysis, Product management, Supply ...</td>\n",
       "      <td>NaN</td>\n",
       "    </tr>\n",
       "    <tr>\n",
       "      <th>10126</th>\n",
       "      <td>11024</td>\n",
       "      <td>symbiosis e-serve</td>\n",
       "      <td>IT Sales Specialist</td>\n",
       "      <td>Pune</td>\n",
       "      <td>800000.0</td>\n",
       "      <td>Market analysis, Sales, Upselling, Lead genera...</td>\n",
       "      <td>NaN</td>\n",
       "    </tr>\n",
       "    <tr>\n",
       "      <th>6653</th>\n",
       "      <td>7113</td>\n",
       "      <td>ROBOSOFT TECHNOLOGIES PRIVATE LIMITED</td>\n",
       "      <td>Simulation Engineer</td>\n",
       "      <td>Bengaluru</td>\n",
       "      <td>0.0</td>\n",
       "      <td>MATLAB, C++, C, Scripting, Unit testing</td>\n",
       "      <td>NaN</td>\n",
       "    </tr>\n",
       "    <tr>\n",
       "      <th>2852</th>\n",
       "      <td>2905</td>\n",
       "      <td>MindTrilogy IT Solutions Pvt. Ltd</td>\n",
       "      <td>Data Engineer</td>\n",
       "      <td>Remote</td>\n",
       "      <td>780000.0</td>\n",
       "      <td>Git, SQL, Machine learning, Scrum, Agile</td>\n",
       "      <td>NaN</td>\n",
       "    </tr>\n",
       "    <tr>\n",
       "      <th>10735</th>\n",
       "      <td>11880</td>\n",
       "      <td>Kotai Electronics Pvt Ltd</td>\n",
       "      <td>Machine Learning Engineer</td>\n",
       "      <td>India</td>\n",
       "      <td>240000.0</td>\n",
       "      <td>TensorFlow, CI/CD, Image processing, Azure, Ku...</td>\n",
       "      <td>NaN</td>\n",
       "    </tr>\n",
       "    <tr>\n",
       "      <th>5930</th>\n",
       "      <td>6378</td>\n",
       "      <td>The Student Care</td>\n",
       "      <td>Digital Marketing Specialist</td>\n",
       "      <td>India</td>\n",
       "      <td>180000.0</td>\n",
       "      <td>Graphic design, Project management, Content cr...</td>\n",
       "      <td>NaN</td>\n",
       "    </tr>\n",
       "    <tr>\n",
       "      <th>1762</th>\n",
       "      <td>1781</td>\n",
       "      <td>Workday</td>\n",
       "      <td>Business Intelligence Systems Engineer</td>\n",
       "      <td>Pune</td>\n",
       "      <td>450000.0</td>\n",
       "      <td>Power BI, Business intelligence, R, Alteryx, D...</td>\n",
       "      <td>4.1</td>\n",
       "    </tr>\n",
       "  </tbody>\n",
       "</table>\n",
       "</div>"
      ],
      "text/plain": [
       "       index                           company_name  \\\n",
       "14410  16794                              Microsoft   \n",
       "6986    7453                                  Adobe   \n",
       "8953    9742                           AGAADH GAMES   \n",
       "12631  14276                Coelentera Technologies   \n",
       "10126  11024                      symbiosis e-serve   \n",
       "6653    7113  ROBOSOFT TECHNOLOGIES PRIVATE LIMITED   \n",
       "2852    2905      MindTrilogy IT Solutions Pvt. Ltd   \n",
       "10735  11880              Kotai Electronics Pvt Ltd   \n",
       "5930    6378                       The Student Care   \n",
       "1762    1781                                Workday   \n",
       "\n",
       "                                     job_role job_location  salary_pa  \\\n",
       "14410                    Software Engineering    Bengaluru   600000.0   \n",
       "6986             Member of Technical Staff II        Noida        0.0   \n",
       "8953                           Sound Designer        India   270000.0   \n",
       "12631                         Product Manager    Hyderābād   700000.0   \n",
       "10126                     IT Sales Specialist         Pune   800000.0   \n",
       "6653                      Simulation Engineer    Bengaluru        0.0   \n",
       "2852                            Data Engineer       Remote   780000.0   \n",
       "10735               Machine Learning Engineer        India   240000.0   \n",
       "5930             Digital Marketing Specialist        India   180000.0   \n",
       "1762   Business Intelligence Systems Engineer         Pune   450000.0   \n",
       "\n",
       "                                                  skills  company_rating  \n",
       "14410  Azure, C#, Microsoft Office, .NET, Algorithm d...             4.2  \n",
       "6986   Computer science, Data structures, Windows, Ap...             4.2  \n",
       "8953             Unity, Middleware, Communication skills             NaN  \n",
       "12631  Business analysis, Product management, Supply ...             NaN  \n",
       "10126  Market analysis, Sales, Upselling, Lead genera...             NaN  \n",
       "6653             MATLAB, C++, C, Scripting, Unit testing             NaN  \n",
       "2852            Git, SQL, Machine learning, Scrum, Agile             NaN  \n",
       "10735  TensorFlow, CI/CD, Image processing, Azure, Ku...             NaN  \n",
       "5930   Graphic design, Project management, Content cr...             NaN  \n",
       "1762   Power BI, Business intelligence, R, Alteryx, D...             4.1  "
      ]
     },
     "execution_count": 486,
     "metadata": {},
     "output_type": "execute_result"
    }
   ],
   "source": [
    "df.sample(10)\n"
   ]
  },
  {
   "cell_type": "code",
   "execution_count": 487,
   "id": "75b5fb41-aff7-439e-97e3-2ec3fe8f12e7",
   "metadata": {},
   "outputs": [],
   "source": [
    "df.loc[df['company_rating'] >= 3.5, 'salary_pa']*= 12"
   ]
  },
  {
   "cell_type": "code",
   "execution_count": 488,
   "id": "72d7fdc8-37fc-4771-b36a-c102b283822e",
   "metadata": {},
   "outputs": [
    {
     "data": {
      "text/html": [
       "<div>\n",
       "<style scoped>\n",
       "    .dataframe tbody tr th:only-of-type {\n",
       "        vertical-align: middle;\n",
       "    }\n",
       "\n",
       "    .dataframe tbody tr th {\n",
       "        vertical-align: top;\n",
       "    }\n",
       "\n",
       "    .dataframe thead th {\n",
       "        text-align: right;\n",
       "    }\n",
       "</style>\n",
       "<table border=\"1\" class=\"dataframe\">\n",
       "  <thead>\n",
       "    <tr style=\"text-align: right;\">\n",
       "      <th></th>\n",
       "      <th>index</th>\n",
       "      <th>company_name</th>\n",
       "      <th>job_role</th>\n",
       "      <th>job_location</th>\n",
       "      <th>salary_pa</th>\n",
       "      <th>skills</th>\n",
       "      <th>company_rating</th>\n",
       "    </tr>\n",
       "  </thead>\n",
       "  <tbody>\n",
       "    <tr>\n",
       "      <th>5870</th>\n",
       "      <td>6318</td>\n",
       "      <td>CenturySoft Pvt Ltd</td>\n",
       "      <td>Digital Marketing Manager</td>\n",
       "      <td>Pune</td>\n",
       "      <td>1200000.0</td>\n",
       "      <td>Management, Social media marketing, Social med...</td>\n",
       "      <td>2.4</td>\n",
       "    </tr>\n",
       "    <tr>\n",
       "      <th>7318</th>\n",
       "      <td>7831</td>\n",
       "      <td>Crowdnetic Technologies Private Limited</td>\n",
       "      <td>Web flow Developer</td>\n",
       "      <td>India</td>\n",
       "      <td>500000.0</td>\n",
       "      <td>CSS, Responsive web design, CMMS, JavaScript, ...</td>\n",
       "      <td>NaN</td>\n",
       "    </tr>\n",
       "    <tr>\n",
       "      <th>16489</th>\n",
       "      <td>19367</td>\n",
       "      <td>AKACORP INNOVATIVE TECHNOLOGY &amp; TRADE PRIVATE ...</td>\n",
       "      <td>UI/UX Designer</td>\n",
       "      <td>Noida</td>\n",
       "      <td>600000.0</td>\n",
       "      <td>Responsive web design, Wireframing, Adobe XD, ...</td>\n",
       "      <td>NaN</td>\n",
       "    </tr>\n",
       "    <tr>\n",
       "      <th>9099</th>\n",
       "      <td>9918</td>\n",
       "      <td>TILTLABS</td>\n",
       "      <td>Unity Roblox, Blender Developers</td>\n",
       "      <td>India</td>\n",
       "      <td>0.0</td>\n",
       "      <td>2D animation, Unity, Digital art</td>\n",
       "      <td>3.0</td>\n",
       "    </tr>\n",
       "    <tr>\n",
       "      <th>8163</th>\n",
       "      <td>8874</td>\n",
       "      <td>Provisions FZCO</td>\n",
       "      <td>Full Stack Developer (3D Modeling)</td>\n",
       "      <td>Remote</td>\n",
       "      <td>0.0</td>\n",
       "      <td>Authentication, Node.js, CSS, Git, English</td>\n",
       "      <td>NaN</td>\n",
       "    </tr>\n",
       "    <tr>\n",
       "      <th>7657</th>\n",
       "      <td>8261</td>\n",
       "      <td>Spruko Technologies</td>\n",
       "      <td>Node.js Developer</td>\n",
       "      <td>India</td>\n",
       "      <td>0.0</td>\n",
       "      <td>Node.js</td>\n",
       "      <td>5.0</td>\n",
       "    </tr>\n",
       "    <tr>\n",
       "      <th>6146</th>\n",
       "      <td>6594</td>\n",
       "      <td>EbisHr Services Private Limited</td>\n",
       "      <td>Digital Marketing Specialist</td>\n",
       "      <td>Cannanore</td>\n",
       "      <td>270000.0</td>\n",
       "      <td>Facebook Advertising, Digital marketing, Desig...</td>\n",
       "      <td>NaN</td>\n",
       "    </tr>\n",
       "    <tr>\n",
       "      <th>2212</th>\n",
       "      <td>2244</td>\n",
       "      <td>Jade Global</td>\n",
       "      <td>AI/ML Engineers</td>\n",
       "      <td>Pune</td>\n",
       "      <td>5400000.0</td>\n",
       "      <td>TensorFlow, CI/CD, Cloud infrastructure, Softw...</td>\n",
       "      <td>3.7</td>\n",
       "    </tr>\n",
       "    <tr>\n",
       "      <th>4568</th>\n",
       "      <td>4826</td>\n",
       "      <td>Thoughtquad</td>\n",
       "      <td>Oracle SOA Admin</td>\n",
       "      <td>Bengaluru</td>\n",
       "      <td>7200000.0</td>\n",
       "      <td>Oracle, Ant, Software deployment, J2EE, Weblogic</td>\n",
       "      <td>NaN</td>\n",
       "    </tr>\n",
       "    <tr>\n",
       "      <th>16813</th>\n",
       "      <td>19707</td>\n",
       "      <td>Userfacet</td>\n",
       "      <td>Sr. UI / UX Designer</td>\n",
       "      <td>Bengaluru</td>\n",
       "      <td>0.0</td>\n",
       "      <td>Communication skills</td>\n",
       "      <td>4.8</td>\n",
       "    </tr>\n",
       "  </tbody>\n",
       "</table>\n",
       "</div>"
      ],
      "text/plain": [
       "       index                                       company_name  \\\n",
       "5870    6318                                CenturySoft Pvt Ltd   \n",
       "7318    7831            Crowdnetic Technologies Private Limited   \n",
       "16489  19367  AKACORP INNOVATIVE TECHNOLOGY & TRADE PRIVATE ...   \n",
       "9099    9918                                           TILTLABS   \n",
       "8163    8874                                    Provisions FZCO   \n",
       "7657    8261                                Spruko Technologies   \n",
       "6146    6594                    EbisHr Services Private Limited   \n",
       "2212    2244                                        Jade Global   \n",
       "4568    4826                                        Thoughtquad   \n",
       "16813  19707                                          Userfacet   \n",
       "\n",
       "                                 job_role job_location  salary_pa  \\\n",
       "5870            Digital Marketing Manager         Pune  1200000.0   \n",
       "7318                   Web flow Developer        India   500000.0   \n",
       "16489                      UI/UX Designer        Noida   600000.0   \n",
       "9099     Unity Roblox, Blender Developers        India        0.0   \n",
       "8163   Full Stack Developer (3D Modeling)       Remote        0.0   \n",
       "7657                    Node.js Developer        India        0.0   \n",
       "6146         Digital Marketing Specialist    Cannanore   270000.0   \n",
       "2212                      AI/ML Engineers         Pune  5400000.0   \n",
       "4568                     Oracle SOA Admin    Bengaluru  7200000.0   \n",
       "16813                Sr. UI / UX Designer    Bengaluru        0.0   \n",
       "\n",
       "                                                  skills  company_rating  \n",
       "5870   Management, Social media marketing, Social med...             2.4  \n",
       "7318   CSS, Responsive web design, CMMS, JavaScript, ...             NaN  \n",
       "16489  Responsive web design, Wireframing, Adobe XD, ...             NaN  \n",
       "9099                    2D animation, Unity, Digital art             3.0  \n",
       "8163          Authentication, Node.js, CSS, Git, English             NaN  \n",
       "7657                                             Node.js             5.0  \n",
       "6146   Facebook Advertising, Digital marketing, Desig...             NaN  \n",
       "2212   TensorFlow, CI/CD, Cloud infrastructure, Softw...             3.7  \n",
       "4568    Oracle, Ant, Software deployment, J2EE, Weblogic             NaN  \n",
       "16813                               Communication skills             4.8  "
      ]
     },
     "execution_count": 488,
     "metadata": {},
     "output_type": "execute_result"
    }
   ],
   "source": [
    "df.sample(10)"
   ]
  },
  {
   "cell_type": "code",
   "execution_count": 489,
   "id": "8ac4721e-3cd0-436f-b3cb-cf2d0e25f7b9",
   "metadata": {},
   "outputs": [],
   "source": [
    "df.to_csv('cleaned_job_trends.csv', index = False)"
   ]
  },
  {
   "cell_type": "code",
   "execution_count": 539,
   "id": "82a5584b-2650-48e9-b889-a23338dd5134",
   "metadata": {},
   "outputs": [
    {
     "data": {
      "text/plain": [
       "(16952, 7)"
      ]
     },
     "execution_count": 539,
     "metadata": {},
     "output_type": "execute_result"
    }
   ],
   "source": [
    "df.shape"
   ]
  },
  {
   "cell_type": "code",
   "execution_count": null,
   "id": "2c13861f-8e29-4a47-a4af-9346f11265ab",
   "metadata": {},
   "outputs": [],
   "source": []
  }
 ],
 "metadata": {
  "kernelspec": {
   "display_name": "Python [conda env:base] *",
   "language": "python",
   "name": "conda-base-py"
  },
  "language_info": {
   "codemirror_mode": {
    "name": "ipython",
    "version": 3
   },
   "file_extension": ".py",
   "mimetype": "text/x-python",
   "name": "python",
   "nbconvert_exporter": "python",
   "pygments_lexer": "ipython3",
   "version": "3.11.7"
  }
 },
 "nbformat": 4,
 "nbformat_minor": 5
}
